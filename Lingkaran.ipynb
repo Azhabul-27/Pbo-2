{
  "nbformat": 4,
  "nbformat_minor": 0,
  "metadata": {
    "colab": {
      "provenance": [],
      "authorship_tag": "ABX9TyM2xC66DW/K613xFW3hiSk0",
      "include_colab_link": true
    },
    "kernelspec": {
      "name": "python3",
      "display_name": "Python 3"
    },
    "language_info": {
      "name": "python"
    }
  },
  "cells": [
    {
      "cell_type": "markdown",
      "metadata": {
        "id": "view-in-github",
        "colab_type": "text"
      },
      "source": [
        "<a href=\"https://colab.research.google.com/github/Azhabul-27/Pbo-2/blob/main/Lingkaran.ipynb\" target=\"_parent\"><img src=\"https://colab.research.google.com/assets/colab-badge.svg\" alt=\"Open In Colab\"/></a>"
      ]
    },
    {
      "cell_type": "code",
      "source": [
        "import math\n",
        "\n",
        "# Definisi kelas Lingkaran\n",
        "class Lingkaran:\n",
        "    def __init__(self, radius):\n",
        "        self.radius = radius\n",
        "\n",
        "    def hitung_luas(self):\n",
        "        return math.pi * self.radius ** 2\n",
        "\n",
        "    def buat_lingkaran(self):\n",
        "        print(f\"Lingkaran dengan radius {self.radius} memiliki luas {self.hitung_luas():.2f}\")\n",
        "\n",
        "# Membuat objek dari kelas Lingkaran\n",
        "blt = Lingkaran(7)\n",
        "blt.buat_lingkaran()"
      ],
      "metadata": {
        "colab": {
          "base_uri": "https://localhost:8080/"
        },
        "id": "eok7pUQ-YnVH",
        "outputId": "8a3402fb-c579-44b0-873b-6b3ed703875e"
      },
      "execution_count": 3,
      "outputs": [
        {
          "output_type": "stream",
          "name": "stdout",
          "text": [
            "Lingkaran dengan radius 7 memiliki luas 153.94\n"
          ]
        }
      ]
    }
  ]
}