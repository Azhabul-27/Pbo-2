{
  "nbformat": 4,
  "nbformat_minor": 0,
  "metadata": {
    "colab": {
      "provenance": [],
      "authorship_tag": "ABX9TyM4xci1kutRQdlL5h4/LBOv",
      "include_colab_link": true
    },
    "kernelspec": {
      "name": "python3",
      "display_name": "Python 3"
    },
    "language_info": {
      "name": "python"
    }
  },
  "cells": [
    {
      "cell_type": "markdown",
      "metadata": {
        "id": "view-in-github",
        "colab_type": "text"
      },
      "source": [
        "<a href=\"https://colab.research.google.com/github/Azhabul-27/Pbo-2/blob/main/Mahasiswa.ipynb\" target=\"_parent\"><img src=\"https://colab.research.google.com/assets/colab-badge.svg\" alt=\"Open In Colab\"/></a>"
      ]
    },
    {
      "cell_type": "code",
      "execution_count": null,
      "metadata": {
        "colab": {
          "base_uri": "https://localhost:8080/"
        },
        "id": "hZR8Slx9V9UH",
        "outputId": "cd6f6929-7717-47fe-d025-3194e732fd7f"
      },
      "outputs": [
        {
          "output_type": "stream",
          "name": "stdout",
          "text": [
            "Mahasiswa Ali (NIM: 21012345) dari jurusan Teknik Informatika telah mencetak KRS.\n"
          ]
        }
      ],
      "source": [
        "# Definisi kelas Mahasiswa\n",
        "class Mahasiswa:\n",
        "    def __init__(self, nama, nim, jurusan):\n",
        "        self.nama = nama\n",
        "        self.nim = nim\n",
        "        self.jurusan = jurusan\n",
        "\n",
        "    def cetak_krs(self):\n",
        "        print(f\"Mahasiswa {self.nama} (NIM: {self.nim}) dari jurusan {self.jurusan} telah mencetak KRS.\")\n",
        "\n",
        "# Membuat objek dari kelas Mahasiswa\n",
        "mhs = Mahasiswa(\"Ali\", \"21012345\", \"Teknik Informatika\")\n",
        "mhs.cetak_krs()"
      ]
    }
  ]
}