{
  "nbformat": 4,
  "nbformat_minor": 0,
  "metadata": {
    "colab": {
      "provenance": [],
      "authorship_tag": "ABX9TyO1NmZIB5CMHxwrKE1cLJrv",
      "include_colab_link": true
    },
    "kernelspec": {
      "name": "python3",
      "display_name": "Python 3"
    },
    "language_info": {
      "name": "python"
    }
  },
  "cells": [
    {
      "cell_type": "markdown",
      "metadata": {
        "id": "view-in-github",
        "colab_type": "text"
      },
      "source": [
        "<a href=\"https://colab.research.google.com/github/Azhabul-27/Pbo-2/blob/main/Kelaspergi.ipynb\" target=\"_parent\"><img src=\"https://colab.research.google.com/assets/colab-badge.svg\" alt=\"Open In Colab\"/></a>"
      ]
    },
    {
      "cell_type": "code",
      "source": [
        "# Definisi kelas Persegi\n",
        "class Persegi:\n",
        "    def __init__(self, sisi):\n",
        "        self.sisi = sisi\n",
        "\n",
        "    def hitung_luas(self):\n",
        "        return self.sisi ** 2\n",
        "\n",
        "    def tampilkan_info(self):\n",
        "        print(f\"Persegi dengan sisi {self.sisi} memiliki luas {self.hitung_luas()}.\")\n",
        "\n",
        "# Membuat objek dari kelas Persegi\n",
        "psg = Persegi(4)\n",
        "psg.tampilkan_info()"
      ],
      "metadata": {
        "colab": {
          "base_uri": "https://localhost:8080/"
        },
        "id": "EArNb1YzaRQe",
        "outputId": "664c999c-22f8-4f9b-8457-5c5d75dfe9b8"
      },
      "execution_count": 5,
      "outputs": [
        {
          "output_type": "stream",
          "name": "stdout",
          "text": [
            "Persegi dengan sisi 4 memiliki luas 16.\n"
          ]
        }
      ]
    }
  ]
}