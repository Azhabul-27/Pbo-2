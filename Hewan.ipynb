{
  "nbformat": 4,
  "nbformat_minor": 0,
  "metadata": {
    "colab": {
      "provenance": [],
      "authorship_tag": "ABX9TyO1Ur1QOaizeaQMaF5E7zBE",
      "include_colab_link": true
    },
    "kernelspec": {
      "name": "python3",
      "display_name": "Python 3"
    },
    "language_info": {
      "name": "python"
    }
  },
  "cells": [
    {
      "cell_type": "markdown",
      "metadata": {
        "id": "view-in-github",
        "colab_type": "text"
      },
      "source": [
        "<a href=\"https://colab.research.google.com/github/Azhabul-27/Pbo-2/blob/main/Hewan.ipynb\" target=\"_parent\"><img src=\"https://colab.research.google.com/assets/colab-badge.svg\" alt=\"Open In Colab\"/></a>"
      ]
    },
    {
      "cell_type": "code",
      "source": [
        "# Definisi kelas Hewan\n",
        "class Hewan:\n",
        "    def __init__(self, nama, jenis):\n",
        "        self.nama = nama\n",
        "        self.jenis = jenis\n",
        "\n",
        "    def bersuara(self):\n",
        "        print(f\"{self.nama} adalah hewan {self.jenis} yang bersuara unik.\")\n",
        "\n",
        "# Membuat objek dari kelas Hewan\n",
        "hwn = Hewan(\"Kucing\", \"Mamalia\")\n",
        "hwn.bersuara()"
      ],
      "metadata": {
        "colab": {
          "base_uri": "https://localhost:8080/"
        },
        "id": "bk8t5xHxbzt4",
        "outputId": "223afafe-f8f1-4e64-bed9-0bf3ea1322af"
      },
      "execution_count": 15,
      "outputs": [
        {
          "output_type": "stream",
          "name": "stdout",
          "text": [
            "Kucing adalah hewan Mamalia yang bersuara unik.\n"
          ]
        }
      ]
    }
  ]
}