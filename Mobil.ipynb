{
  "nbformat": 4,
  "nbformat_minor": 0,
  "metadata": {
    "colab": {
      "provenance": [],
      "authorship_tag": "ABX9TyMNg2L1f2gNpMs6tMLlIXyU",
      "include_colab_link": true
    },
    "kernelspec": {
      "name": "python3",
      "display_name": "Python 3"
    },
    "language_info": {
      "name": "python"
    }
  },
  "cells": [
    {
      "cell_type": "markdown",
      "metadata": {
        "id": "view-in-github",
        "colab_type": "text"
      },
      "source": [
        "<a href=\"https://colab.research.google.com/github/Azhabul-27/Pbo-2/blob/main/Mobil.ipynb\" target=\"_parent\"><img src=\"https://colab.research.google.com/assets/colab-badge.svg\" alt=\"Open In Colab\"/></a>"
      ]
    },
    {
      "cell_type": "code",
      "source": [
        "# Definisi kelas Mobil\n",
        "class Mobil:\n",
        "    def __init__(self, merk, warna, tahun):\n",
        "        self.merk = merk\n",
        "        self.warna = warna\n",
        "        self.tahun = tahun\n",
        "\n",
        "    def info_mobil(self):\n",
        "        print(f\"Mobil {self.merk} berwarna {self.warna} keluaran tahun {self.tahun}.\")\n",
        "\n",
        "# Membuat objek dari kelas Mobil\n",
        "mbl = Mobil(\"tank\", \"Hitam\", 2020)\n",
        "mbl.info_mobil()"
      ],
      "metadata": {
        "colab": {
          "base_uri": "https://localhost:8080/"
        },
        "id": "vWSXOx5Uay05",
        "outputId": "06681471-d131-482f-b349-c6c12dc9faff"
      },
      "execution_count": 7,
      "outputs": [
        {
          "output_type": "stream",
          "name": "stdout",
          "text": [
            "Mobil tank berwarna Hitam keluaran tahun 2020.\n"
          ]
        }
      ]
    }
  ]
}