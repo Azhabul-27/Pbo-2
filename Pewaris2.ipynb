{
  "nbformat": 4,
  "nbformat_minor": 0,
  "metadata": {
    "colab": {
      "provenance": [],
      "authorship_tag": "ABX9TyO2X7XLimnGtquFp/buSoiU",
      "include_colab_link": true
    },
    "kernelspec": {
      "name": "python3",
      "display_name": "Python 3"
    },
    "language_info": {
      "name": "python"
    }
  },
  "cells": [
    {
      "cell_type": "markdown",
      "metadata": {
        "id": "view-in-github",
        "colab_type": "text"
      },
      "source": [
        "<a href=\"https://colab.research.google.com/github/Azhabul-27/Pbo-2/blob/main/Pewaris2.ipynb\" target=\"_parent\"><img src=\"https://colab.research.google.com/assets/colab-badge.svg\" alt=\"Open In Colab\"/></a>"
      ]
    },
    {
      "cell_type": "code",
      "source": [
        "class Vehicle:\n",
        "    def __init__(self, brand, model, year):\n",
        "        self.brand = brand\n",
        "        self.model = model\n",
        "        self.year = year\n",
        "\n",
        "    def start(self):\n",
        "        print(\"vehicle is starting\")\n",
        "\n",
        "    def stop(self):\n",
        "        print(\"vehicle is stopping\")\n",
        "\n",
        "class Car(Vehicle):\n",
        "    def __init__(self, brand, model, year, number_of_doors, number_of_wheels):\n",
        "        super().__init__(brand, model, year)\n",
        "        self.number_of_doors = number_of_doors\n",
        "        self.number_of_wheels = number_of_wheels\n",
        "\n",
        "class Bike(Vehicle):\n",
        "    def __init__(self, brand, model, year, number_of_wheels):\n",
        "        super().__init__(brand, model, year)\n",
        "        self.number_of_wheels = number_of_wheels\n",
        "\n",
        "car = Car(\"Toyota\", \"Yaris\", 2010, 5, 4)\n",
        "bike = Bike(\"Yamaha\", \"NMAX\", 2020, 2)\n",
        "\n",
        "# Output rapi\n",
        "print(\"Car details:\")\n",
        "print(f\"Brand: {car.brand}\")\n",
        "print(f\"Model: {car.model}\")\n",
        "print(f\"Year: {car.year}\")\n",
        "print(f\"Doors: {car.number_of_doors}\")\n",
        "print(f\"Wheels: {car.number_of_wheels}\")\n",
        "car.start()\n",
        "\n",
        "print(\"\\nBike details:\")\n",
        "print(f\"Brand: {bike.brand}\")\n",
        "print(f\"Model: {bike.model}\")\n",
        "print(f\"Year: {bike.year}\")\n",
        "print(f\"Wheels: {bike.number_of_wheels}\")\n",
        "bike.start()"
      ],
      "metadata": {
        "colab": {
          "base_uri": "https://localhost:8080/"
        },
        "id": "vaa5DH1Rwcx_",
        "outputId": "5f1ce488-4fac-47c6-cccf-becabb07808e"
      },
      "execution_count": 4,
      "outputs": [
        {
          "output_type": "stream",
          "name": "stdout",
          "text": [
            "Car details:\n",
            "Brand: Toyota\n",
            "Model: Yaris\n",
            "Year: 2010\n",
            "Doors: 5\n",
            "Wheels: 4\n",
            "vehicle is starting\n",
            "\n",
            "Bike details:\n",
            "Brand: Yamaha\n",
            "Model: NMAX\n",
            "Year: 2020\n",
            "Wheels: 2\n",
            "vehicle is starting\n"
          ]
        }
      ]
    }
  ]
}