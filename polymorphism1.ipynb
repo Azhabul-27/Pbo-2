{
  "nbformat": 4,
  "nbformat_minor": 0,
  "metadata": {
    "colab": {
      "provenance": [],
      "authorship_tag": "ABX9TyNfS5M5yN03ORpw92yb0Yvu",
      "include_colab_link": true
    },
    "kernelspec": {
      "name": "python3",
      "display_name": "Python 3"
    },
    "language_info": {
      "name": "python"
    }
  },
  "cells": [
    {
      "cell_type": "markdown",
      "metadata": {
        "id": "view-in-github",
        "colab_type": "text"
      },
      "source": [
        "<a href=\"https://colab.research.google.com/github/Azhabul-27/Pbo-2/blob/main/polymorphism1.ipynb\" target=\"_parent\"><img src=\"https://colab.research.google.com/assets/colab-badge.svg\" alt=\"Open In Colab\"/></a>"
      ]
    },
    {
      "cell_type": "code",
      "source": [
        "class Bidang:\n",
        "    def hitung_luas(self):\n",
        "        return \"Luas belum didefinisikan\"\n",
        "\n",
        "class Segitiga(Bidang):\n",
        "    def __init__(self, alas, tinggi):\n",
        "        self.alas = alas\n",
        "        self.tinggi = tinggi\n",
        "\n",
        "    def hitung_luas(self):\n",
        "        return 0.5 * self.alas * self.tinggi\n",
        "\n",
        "class Trapesium(Bidang):\n",
        "    def __init__(self, sisi_atas, sisi_bawah, tinggi):\n",
        "        self.sisi_atas = sisi_atas\n",
        "        self.sisi_bawah = sisi_bawah\n",
        "        self.tinggi = tinggi\n",
        "\n",
        "    def hitung_luas(self):\n",
        "        return 0.5 * (self.sisi_atas + self.sisi_bawah) * self.tinggi\n",
        "\n",
        "# Buat daftar objek bidang\n",
        "daftar_bidang = [Segitiga(4, 5), Trapesium(3, 7, 4)]\n",
        "\n",
        "# Tampilkan luas masing-masing\n",
        "for bidang in daftar_bidang:\n",
        "    print(f\"Luas: {bidang.hitung_luas()}\")"
      ],
      "metadata": {
        "colab": {
          "base_uri": "https://localhost:8080/"
        },
        "id": "-Wvrw9iKx5Te",
        "outputId": "98ea6b8e-50ab-4f80-acc6-33b669fa3507"
      },
      "execution_count": 5,
      "outputs": [
        {
          "output_type": "stream",
          "name": "stdout",
          "text": [
            "Luas: 10.0\n",
            "Luas: 20.0\n"
          ]
        }
      ]
    }
  ]
}